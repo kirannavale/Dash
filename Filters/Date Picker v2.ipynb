{
 "cells": [
  {
   "cell_type": "code",
   "execution_count": 1,
   "id": "6a28278d",
   "metadata": {},
   "outputs": [
    {
     "name": "stderr",
     "output_type": "stream",
     "text": [
      "C:\\Users\\nk619\\AppData\\Local\\Temp\\ipykernel_4888\\4166045853.py:2: UserWarning: \n",
      "The dash_html_components package is deprecated. Please replace\n",
      "`import dash_html_components as html` with `from dash import html`\n",
      "  import dash_html_components as html\n",
      "C:\\Users\\nk619\\AppData\\Local\\Temp\\ipykernel_4888\\4166045853.py:3: UserWarning: \n",
      "The dash_core_components package is deprecated. Please replace\n",
      "`import dash_core_components as dcc` with `from dash import dcc`\n",
      "  import dash_core_components as dcc\n"
     ]
    }
   ],
   "source": [
    "import dash\n",
    "import dash_html_components as html\n",
    "import dash_core_components as dcc\n",
    "from datetime import date, datetime\n",
    "from dash.dependencies import Input, Output\n",
    "from dash.exceptions import PreventUpdate\n"
   ]
  },
  {
   "cell_type": "code",
   "execution_count": null,
   "id": "659371c0",
   "metadata": {},
   "outputs": [
    {
     "name": "stdout",
     "output_type": "stream",
     "text": [
      "Dash is running on http://127.0.0.1:8050/\n",
      "\n",
      " * Serving Flask app '__main__'\n",
      " * Debug mode: off\n"
     ]
    },
    {
     "name": "stderr",
     "output_type": "stream",
     "text": [
      "WARNING: This is a development server. Do not use it in a production deployment. Use a production WSGI server instead.\n",
      " * Running on http://127.0.0.1:8050\n",
      "Press CTRL+C to quit\n",
      "127.0.0.1 - - [05/Jun/2023 20:08:06] \"GET / HTTP/1.1\" 200 -\n",
      "127.0.0.1 - - [05/Jun/2023 20:08:06] \"GET /_dash-dependencies HTTP/1.1\" 200 -\n",
      "127.0.0.1 - - [05/Jun/2023 20:08:06] \"GET /_dash-layout HTTP/1.1\" 200 -\n",
      "127.0.0.1 - - [05/Jun/2023 20:08:07] \"GET /_dash-component-suites/dash/dcc/async-datepicker.js HTTP/1.1\" 304 -\n",
      "127.0.0.1 - - [05/Jun/2023 20:08:07] \"POST /_dash-update-component HTTP/1.1\" 200 -\n"
     ]
    }
   ],
   "source": [
    "# Create an instance of the Dash class\n",
    "app = dash.Dash()\n",
    "\n",
    "# Define the layout of the app\n",
    "app.layout = html.Div(\n",
    "    [\n",
    "        # Add a DatePicker component\n",
    "        dcc.DatePickerSingle(\n",
    "            id=\"date-picker\",\n",
    "            min_date_allowed=date(2020, 8, 5),\n",
    "            max_date_allowed=date.today(),\n",
    "            initial_visible_month=date.today(),\n",
    "            date=datetime.now().date(),\n",
    "            style={\"width\": 200, \"borderColor\": \"white\", \"borderWidth\": \"1px\", \"borderStyle\": \"light\", \"fontFamily\": \"product sans\", \"fontSize\": \"20px\"},\n",
    "        ),\n",
    "        \n",
    "        # Add some space between components\n",
    "        html.Br(),\n",
    "        \n",
    "        # Add a Text component to display the selected date\n",
    "        html.Div(id=\"selected-date\", style={\"fontFamily\": \"product sans\", \"fontSize\": \"20px\"}),\n",
    "    ]\n",
    ")\n",
    "\n",
    "# Define a callback function to update the output based on the selected date\n",
    "@app.callback(Output(\"selected-date\", \"children\"), Input(\"date-picker\", \"date\"))\n",
    "def update_output(date_value):\n",
    "    prefix = \"You have selected: \"\n",
    "    if date_value:\n",
    "        return prefix + str(date_value)\n",
    "    else:\n",
    "        raise PreventUpdate\n",
    "\n",
    "# Run the app\n",
    "if __name__ == \"__main__\":\n",
    "    app.run_server(debug=False)\n"
   ]
  },
  {
   "cell_type": "code",
   "execution_count": null,
   "id": "52218b91",
   "metadata": {},
   "outputs": [],
   "source": []
  },
  {
   "cell_type": "code",
   "execution_count": null,
   "id": "06b092d3",
   "metadata": {},
   "outputs": [],
   "source": []
  }
 ],
 "metadata": {
  "kernelspec": {
   "display_name": "Python 3 (ipykernel)",
   "language": "python",
   "name": "python3"
  },
  "language_info": {
   "codemirror_mode": {
    "name": "ipython",
    "version": 3
   },
   "file_extension": ".py",
   "mimetype": "text/x-python",
   "name": "python",
   "nbconvert_exporter": "python",
   "pygments_lexer": "ipython3",
   "version": "3.9.16"
  }
 },
 "nbformat": 4,
 "nbformat_minor": 5
}
