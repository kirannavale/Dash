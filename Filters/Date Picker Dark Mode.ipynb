{
 "cells": [
  {
   "cell_type": "code",
   "execution_count": 1,
   "id": "ccf4dcff",
   "metadata": {},
   "outputs": [],
   "source": [
    "# Import necessary libraries\n",
    "import dash\n",
    "from datetime import datetime, date\n",
    "import dash_mantine_components as dmc\n",
    "from dash import Input, Output, html, callback\n",
    "from dash.exceptions import PreventUpdate\n"
   ]
  },
  {
   "cell_type": "code",
   "execution_count": 6,
   "id": "3be29c90",
   "metadata": {},
   "outputs": [
    {
     "ename": "SyntaxError",
     "evalue": "invalid syntax (4016613196.py, line 35)",
     "output_type": "error",
     "traceback": [
      "\u001b[1;36m  Cell \u001b[1;32mIn[6], line 35\u001b[1;36m\u001b[0m\n\u001b[1;33m    def update_output(d):\u001b[0m\n\u001b[1;37m    ^\u001b[0m\n\u001b[1;31mSyntaxError\u001b[0m\u001b[1;31m:\u001b[0m invalid syntax\n"
     ]
    }
   ],
   "source": [
    "# Create an instance of the Dash class\n",
    "app = dash.Dash()\n",
    "app.layout = dmc.MantineProvider(\n",
    "\tid=\"app-theme\",\n",
    "    theme={\n",
    "\t\t\"colorScheme\": \"white\",\n",
    "    },\n",
    "    inherit=True,\n",
    "    withGlobalStyles=True,\n",
    "    withNormalizeCSS=True,\n",
    "# Define the layout of the app\n",
    " children = html.Div(\n",
    "    \n",
    "       # Add a DatePicker component\n",
    "        dmc.DatePicker(\n",
    "            id=\"date-picker\",\n",
    "            #label=\"Select Date\",\n",
    "            #description=\"You can also provide a description\",\n",
    "            minDate=date(2020, 8, 5),\n",
    "            value=datetime.now().date(),\n",
    "            #clearable=False,\n",
    "            #dropdownType=\"modal\",\n",
    "            style={\"width\": 200},\n",
    "    \n",
    "      ),\n",
    "        # Add some space between components\n",
    "        dmc.Space(h=10),\n",
    "        # Add a Text component to display the selected date\n",
    "        dmc.Text(id=\"selected-date\"),\n",
    "    \n",
    ")\n",
    "\n",
    "# Define a callback function to update the output based on the selected date\n",
    "@app.callback(Output(\"selected-date\", \"children\"), Input(\"date-picker\", \"value\"))\n",
    "def update_output(d):\n",
    "    prefix = \"You have selected: \"\n",
    "    if d:\n",
    "        return prefix + d\n",
    "    else:\n",
    "        raise PreventUpdate\n",
    "\n",
    "# Run the app \n",
    "if __name__ == '__main__':\n",
    "    app.run_server(debug=False)\n"
   ]
  },
  {
   "cell_type": "code",
   "execution_count": null,
   "id": "0aeabb0a",
   "metadata": {},
   "outputs": [],
   "source": []
  }
 ],
 "metadata": {
  "kernelspec": {
   "display_name": "Python 3 (ipykernel)",
   "language": "python",
   "name": "python3"
  },
  "language_info": {
   "codemirror_mode": {
    "name": "ipython",
    "version": 3
   },
   "file_extension": ".py",
   "mimetype": "text/x-python",
   "name": "python",
   "nbconvert_exporter": "python",
   "pygments_lexer": "ipython3",
   "version": "3.9.16"
  }
 },
 "nbformat": 4,
 "nbformat_minor": 5
}
