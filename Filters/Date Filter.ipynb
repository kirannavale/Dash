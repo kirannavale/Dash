{
 "cells": [
  {
   "cell_type": "code",
   "execution_count": null,
   "id": "0966a7da",
   "metadata": {},
   "outputs": [],
   "source": [
    "import dash\n",
    "from dash.dependencies import Input, Output\n",
    "import dash_core_components as dcc\n",
    "import dash_html_components as html\n",
    "from datetime import datetime as dt"
   ]
  },
  {
   "cell_type": "code",
   "execution_count": null,
   "id": "ce0aa587",
   "metadata": {},
   "outputs": [],
   "source": [
    "app = dash.Dash()\n",
    "app.layout = html.Div([\n",
    "    dcc.DatePickerSingle(\n",
    "        id='date-picker-single',\n",
    "        date=dt(2023, 5, 1)\n",
    "    ),\n",
    "    html.Div(id='output')\n",
    "])\n",
    "\n",
    "app.scripts.config.serve_locally=True\n",
    "app.css.config.serve_locally=True\n",
    "\n",
    "@app.callback(\n",
    "    dash.dependencies.Output('output', 'children'),\n",
    "    [dash.dependencies.Input('date-picker-single', 'date')])\n",
    "def display_date(date):\n",
    "    print(date)\n",
    "    return 'You have selected {}'.format(date)\n",
    "\n",
    "if __name__ == '__main__':\n",
    "    app.run_server(debug=False)"
   ]
  },
  {
   "cell_type": "code",
   "execution_count": null,
   "id": "f88f75a1",
   "metadata": {},
   "outputs": [],
   "source": []
  }
 ],
 "metadata": {
  "kernelspec": {
   "display_name": "Python 3 (ipykernel)",
   "language": "python",
   "name": "python3"
  },
  "language_info": {
   "codemirror_mode": {
    "name": "ipython",
    "version": 3
   },
   "file_extension": ".py",
   "mimetype": "text/x-python",
   "name": "python",
   "nbconvert_exporter": "python",
   "pygments_lexer": "ipython3",
   "version": "3.9.16"
  }
 },
 "nbformat": 4,
 "nbformat_minor": 5
}
