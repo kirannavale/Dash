{
 "cells": [
  {
   "cell_type": "code",
   "execution_count": null,
   "id": "d38917de",
   "metadata": {},
   "outputs": [],
   "source": [
    "import dash\n",
    "import dash_html_components as html\n",
    "import dash_core_components as dcc\n",
    "from dash.dependencies import Input, Output\n",
    "\n"
   ]
  },
  {
   "cell_type": "code",
   "execution_count": null,
   "id": "0f496ada",
   "metadata": {},
   "outputs": [],
   "source": [
    "import dash\n",
    "import dash_html_components as html\n",
    "import dash_core_components as dcc\n",
    "from dash.dependencies import Input, Output\n",
    "\n",
    "app = dash.Dash(__name__)\n",
    "\n",
    "# Load your own data\n",
    "your_data = [\n",
    "    \"Example text 1\",\n",
    "    \"Example text 2\",\n",
    "    \"Example text 3\",\n",
    "    # Add more text examples here\n",
    "]\n",
    "\n",
    "app.layout = html.Div([\n",
    "    html.H1(\"Text Filter Example\"),\n",
    "    dcc.Input(id='input-filter', type='text', placeholder='Enter text...'),\n",
    "    html.Br(),\n",
    "    html.Div(id='output-filter')\n",
    "])\n",
    "\n",
    "@app.callback(\n",
    "    Output('output-filter', 'children'),\n",
    "    [Input('input-filter', 'value')]\n",
    ")\n",
    "def update_output(value):\n",
    "    if value:\n",
    "        filtered_data = [text for text in your_data if value.lower() in text.lower()]\n",
    "        if filtered_data:\n",
    "            return html.Ul([html.Li(text) for text in filtered_data])\n",
    "        else:\n",
    "            return html.P(\"No matches found.\")\n",
    "    else:\n",
    "        return html.P(\"No input text.\")\n",
    "\n",
    "if __name__ == '__main__':\n",
    "    app.run_server(debug=False)\n",
    "\n"
   ]
  },
  {
   "cell_type": "code",
   "execution_count": null,
   "id": "7712a076",
   "metadata": {},
   "outputs": [],
   "source": []
  }
 ],
 "metadata": {
  "kernelspec": {
   "display_name": "Python 3 (ipykernel)",
   "language": "python",
   "name": "python3"
  },
  "language_info": {
   "codemirror_mode": {
    "name": "ipython",
    "version": 3
   },
   "file_extension": ".py",
   "mimetype": "text/x-python",
   "name": "python",
   "nbconvert_exporter": "python",
   "pygments_lexer": "ipython3",
   "version": "3.9.16"
  }
 },
 "nbformat": 4,
 "nbformat_minor": 5
}
