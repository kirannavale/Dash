{
 "cells": [
  {
   "cell_type": "code",
   "execution_count": null,
   "id": "ee2ba5e9",
   "metadata": {},
   "outputs": [],
   "source": [
    "import dash\n",
    "import dash_core_components as dcc\n",
    "import dash_html_components as html\n",
    "\n"
   ]
  },
  {
   "cell_type": "code",
   "execution_count": null,
   "id": "1d9f271c",
   "metadata": {},
   "outputs": [],
   "source": [
    "app = dash.Dash(__name__)\n",
    "\n",
    "app.layout = html.Div(\n",
    "    children=[\n",
    "        html.H1(\"Column Chart\"),\n",
    "        dcc.Graph(\n",
    "            id=\"column-chart\",\n",
    "            figure={\n",
    "                \"data\": [\n",
    "                    {\n",
    "                        \"x\": [\"Category 1\", \"Category 2\", \"Category 3\", \"Category 4\", \"Category 5\", \"Category 6\"],\n",
    "                        \"y\": [4, 6, 3, 8, 5, 2],\n",
    "                        \"type\": \"bar\",\n",
    "                        \"marker\": {\"color\": [\"#1f77b4\", \"#ff7f0e\", \"#2ca02c\", \"#d62728\", \"#9467bd\", \"#8c564b\"]},\n",
    "                    }\n",
    "                ],\n",
    "                \"layout\": {\n",
    "                    \"title\": \"Column Chart\",\n",
    "                    \"xaxis\": {\"title\": \"Categories\"},\n",
    "                    \"yaxis\": {\"title\": \"Values\"},\n",
    "                    \"hovermode\": \"closest\",\n",
    "                    \"clickmode\": \"event+select\",\n",
    "                },\n",
    "            },\n",
    "        ),\n",
    "    ]\n",
    ")\n",
    "\n",
    "if __name__ == \"__main__\":\n",
    "    app.run_server(debug=False)\n",
    "\n"
   ]
  },
  {
   "cell_type": "code",
   "execution_count": null,
   "id": "2a784c19",
   "metadata": {},
   "outputs": [],
   "source": []
  }
 ],
 "metadata": {
  "kernelspec": {
   "display_name": "Python 3 (ipykernel)",
   "language": "python",
   "name": "python3"
  },
  "language_info": {
   "codemirror_mode": {
    "name": "ipython",
    "version": 3
   },
   "file_extension": ".py",
   "mimetype": "text/x-python",
   "name": "python",
   "nbconvert_exporter": "python",
   "pygments_lexer": "ipython3",
   "version": "3.9.16"
  }
 },
 "nbformat": 4,
 "nbformat_minor": 5
}
