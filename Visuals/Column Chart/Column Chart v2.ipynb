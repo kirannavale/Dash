{
 "cells": [
  {
   "cell_type": "code",
   "execution_count": 1,
   "id": "ee2ba5e9",
   "metadata": {},
   "outputs": [
    {
     "name": "stderr",
     "output_type": "stream",
     "text": [
      "C:\\Users\\nk619\\AppData\\Local\\Temp\\ipykernel_17624\\1143902427.py:3: UserWarning: \n",
      "The dash_core_components package is deprecated. Please replace\n",
      "`import dash_core_components as dcc` with `from dash import dcc`\n",
      "  import dash_core_components as dcc\n",
      "C:\\Users\\nk619\\AppData\\Local\\Temp\\ipykernel_17624\\1143902427.py:4: UserWarning: \n",
      "The dash_html_components package is deprecated. Please replace\n",
      "`import dash_html_components as html` with `from dash import html`\n",
      "  import dash_html_components as html\n"
     ]
    }
   ],
   "source": [
    "import pandas as pd\n",
    "import dash\n",
    "import dash_core_components as dcc\n",
    "import dash_html_components as html\n",
    "import plotly.express as px"
   ]
  },
  {
   "cell_type": "code",
   "execution_count": null,
   "id": "1d9f271c",
   "metadata": {},
   "outputs": [
    {
     "name": "stdout",
     "output_type": "stream",
     "text": [
      "Dash is running on http://127.0.0.1:8050/\n",
      "\n",
      " * Serving Flask app '__main__'\n",
      " * Debug mode: off\n"
     ]
    },
    {
     "name": "stderr",
     "output_type": "stream",
     "text": [
      "WARNING: This is a development server. Do not use it in a production deployment. Use a production WSGI server instead.\n",
      " * Running on http://127.0.0.1:8050\n",
      "Press CTRL+C to quit\n",
      "127.0.0.1 - - [06/Jun/2023 12:35:29] \"GET / HTTP/1.1\" 200 -\n",
      "127.0.0.1 - - [06/Jun/2023 12:35:29] \"GET /_dash-layout HTTP/1.1\" 200 -\n",
      "127.0.0.1 - - [06/Jun/2023 12:35:29] \"GET /_dash-dependencies HTTP/1.1\" 200 -\n",
      "127.0.0.1 - - [06/Jun/2023 12:35:30] \"GET /_dash-component-suites/dash/dcc/async-graph.js HTTP/1.1\" 304 -\n",
      "127.0.0.1 - - [06/Jun/2023 12:35:30] \"GET /_dash-component-suites/dash/dcc/async-plotlyjs.js HTTP/1.1\" 304 -\n",
      "127.0.0.1 - - [06/Jun/2023 12:36:35] \"GET / HTTP/1.1\" 200 -\n",
      "127.0.0.1 - - [06/Jun/2023 12:36:35] \"GET /_dash-layout HTTP/1.1\" 200 -\n",
      "127.0.0.1 - - [06/Jun/2023 12:36:35] \"GET /_dash-dependencies HTTP/1.1\" 200 -\n",
      "127.0.0.1 - - [06/Jun/2023 12:36:35] \"GET /_dash-component-suites/dash/dcc/async-graph.js HTTP/1.1\" 304 -\n",
      "127.0.0.1 - - [06/Jun/2023 12:36:35] \"GET /_dash-component-suites/dash/dcc/async-plotlyjs.js HTTP/1.1\" 304 -\n"
     ]
    }
   ],
   "source": [
    "# Create monthly sales data\n",
    "monthly_sales = {\n",
    "    'Month': ['January', 'February', 'March', 'April', 'May'],\n",
    "    'Sales': [5000, 7000, 5500, 9000, 6000]\n",
    "}\n",
    "df = pd.DataFrame(monthly_sales)\n",
    "\n",
    "# Initialize the Dash app\n",
    "app = dash.Dash(__name__)\n",
    "\n",
    "# Define the layout of the app\n",
    "font_family = 'product sans'\n",
    "font_size = 15\n",
    "header_size = 30\n",
    "graph_width = 800\n",
    "graph_height = 600\n",
    "\n",
    "# Set up the layout of the app\n",
    "app.layout = html.Div(children=[\n",
    "    html.H1('Monthly Sales',\n",
    "            style={'font-size': f'{header_size}px', 'font-family': font_family}),\n",
    "    dcc.Graph(\n",
    "        id='sales-chart',\n",
    "        figure=px.bar(\n",
    "            df,\n",
    "            x='Month',\n",
    "            y='Sales',\n",
    "            color='Month',  # Assign colors based on the 'Month' category\n",
    "            title='',\n",
    "            template='plotly_white',  # Use a white background template\n",
    "            width=graph_width,\n",
    "            height=graph_height\n",
    "        ).update_layout(showlegend=True)  # Display the legend\n",
    "    )\n",
    "])\n",
    "\n",
    "# Run the app\n",
    "if __name__ == '__main__':\n",
    "    app.run_server(debug=False)\n"
   ]
  },
  {
   "cell_type": "code",
   "execution_count": null,
   "id": "def16f8e",
   "metadata": {},
   "outputs": [],
   "source": []
  }
 ],
 "metadata": {
  "kernelspec": {
   "display_name": "Python 3 (ipykernel)",
   "language": "python",
   "name": "python3"
  },
  "language_info": {
   "codemirror_mode": {
    "name": "ipython",
    "version": 3
   },
   "file_extension": ".py",
   "mimetype": "text/x-python",
   "name": "python",
   "nbconvert_exporter": "python",
   "pygments_lexer": "ipython3",
   "version": "3.9.16"
  }
 },
 "nbformat": 4,
 "nbformat_minor": 5
}
