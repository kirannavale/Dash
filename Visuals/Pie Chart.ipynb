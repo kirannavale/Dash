{
 "cells": [
  {
   "cell_type": "code",
   "execution_count": null,
   "id": "1a4ae18f",
   "metadata": {},
   "outputs": [],
   "source": [
    "import pandas as pd\n",
    "\n",
    "import dash\n",
    "import dash_core_components as dcc\n",
    "import dash_html_components as html\n",
    "from dash.dependencies import Input, Output\n",
    "import plotly.express as px"
   ]
  },
  {
   "cell_type": "code",
   "execution_count": 2,
   "id": "37439bed",
   "metadata": {},
   "outputs": [],
   "source": [
    "df = pd.read_csv(r\"C:\\Users\\nk619\\Downloads\\Dash\\Pie Chart\\Animal_Condition_Response.csv\")"
   ]
  },
  {
   "cell_type": "code",
   "execution_count": null,
   "id": "51adc654",
   "metadata": {},
   "outputs": [
    {
     "name": "stdout",
     "output_type": "stream",
     "text": [
      "Dash is running on http://127.0.0.1:8050/\n",
      "\n",
      " * Serving Flask app '__main__'\n",
      " * Debug mode: off\n"
     ]
    },
    {
     "name": "stderr",
     "output_type": "stream",
     "text": [
      "WARNING: This is a development server. Do not use it in a production deployment. Use a production WSGI server instead.\n",
      " * Running on http://127.0.0.1:8050\n",
      "Press CTRL+C to quit\n",
      "127.0.0.1 - - [18/May/2023 14:57:24] \"GET / HTTP/1.1\" 200 -\n",
      "127.0.0.1 - - [18/May/2023 14:57:24] \"GET /_dash-layout HTTP/1.1\" 200 -\n",
      "127.0.0.1 - - [18/May/2023 14:57:24] \"GET /_dash-dependencies HTTP/1.1\" 200 -\n",
      "127.0.0.1 - - [18/May/2023 14:57:24] \"GET /_dash-component-suites/dash/dcc/async-dropdown.js HTTP/1.1\" 304 -\n",
      "127.0.0.1 - - [18/May/2023 14:57:24] \"GET /_dash-component-suites/dash/dcc/async-graph.js HTTP/1.1\" 304 -\n",
      "127.0.0.1 - - [18/May/2023 14:57:24] \"GET /_dash-component-suites/dash/dcc/async-plotlyjs.js HTTP/1.1\" 304 -\n",
      "127.0.0.1 - - [18/May/2023 14:57:25] \"POST /_dash-update-component HTTP/1.1\" 200 -\n",
      "127.0.0.1 - - [18/May/2023 14:57:27] \"POST /_dash-update-component HTTP/1.1\" 200 -\n"
     ]
    }
   ],
   "source": [
    "# you need to include __name__ in your Dash constructor if\n",
    "# you plan to use a custom CSS or JavaScript in your Dash apps\n",
    "app = dash.Dash(__name__)\n",
    "\n",
    "#---------------------------------------------------------------\n",
    "app.layout = html.Div([\n",
    "    html.Div([\n",
    "        html.Label(['Pie Chart']),\n",
    "        dcc.Dropdown(\n",
    "            id='my_dropdown',\n",
    "            options=[\n",
    "                     {'label': '1', 'value': 'Final Ranger Action'},\n",
    "                     {'label': '2', 'value': 'Age'},\n",
    "                     {'label': '3', 'value': 'Animal Condition'},\n",
    "                     {'label': '4', 'value': 'Borough'},\n",
    "                     {'label': '5', 'value': 'Animal Class'},\n",
    "                     {'label': '6', 'value': 'Species Status'}\n",
    "            ],\n",
    "            value='Animal Class',\n",
    "            multi=False,\n",
    "            clearable=False,\n",
    "            style={\"width\": \"50%\"}\n",
    "        ),\n",
    "    ]),\n",
    "\n",
    "    html.Div([\n",
    "        dcc.Graph(id='the_graph')\n",
    "    ]),\n",
    "\n",
    "])\n",
    "\n",
    "#---------------------------------------------------------------\n",
    "@app.callback(\n",
    "    Output(component_id='the_graph', component_property='figure'),\n",
    "    [Input(component_id='my_dropdown', component_property='value')]\n",
    ")\n",
    "\n",
    "def update_graph(my_dropdown):\n",
    "    dff = df\n",
    "\n",
    "    piechart=px.pie(\n",
    "            data_frame=dff,\n",
    "            names=my_dropdown,\n",
    "            hole=.3,\n",
    "            )\n",
    "\n",
    "    return (piechart)\n",
    "\n",
    "\n",
    "if __name__ == '__main__':\n",
    "    app.run_server(debug=False)\n"
   ]
  },
  {
   "cell_type": "code",
   "execution_count": null,
   "id": "2003ae3a",
   "metadata": {},
   "outputs": [],
   "source": []
  }
 ],
 "metadata": {
  "kernelspec": {
   "display_name": "Python 3 (ipykernel)",
   "language": "python",
   "name": "python3"
  },
  "language_info": {
   "codemirror_mode": {
    "name": "ipython",
    "version": 3
   },
   "file_extension": ".py",
   "mimetype": "text/x-python",
   "name": "python",
   "nbconvert_exporter": "python",
   "pygments_lexer": "ipython3",
   "version": "3.9.16"
  }
 },
 "nbformat": 4,
 "nbformat_minor": 5
}
