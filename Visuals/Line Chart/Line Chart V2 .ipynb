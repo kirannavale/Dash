{
 "cells": [
  {
   "cell_type": "code",
   "execution_count": 1,
   "id": "75f5f63e",
   "metadata": {},
   "outputs": [
    {
     "name": "stderr",
     "output_type": "stream",
     "text": [
      "C:\\Users\\nk619\\AppData\\Local\\Temp\\ipykernel_18448\\2905072667.py:2: UserWarning: \n",
      "The dash_core_components package is deprecated. Please replace\n",
      "`import dash_core_components as dcc` with `from dash import dcc`\n",
      "  import dash_core_components as dcc\n",
      "C:\\Users\\nk619\\AppData\\Local\\Temp\\ipykernel_18448\\2905072667.py:3: UserWarning: \n",
      "The dash_html_components package is deprecated. Please replace\n",
      "`import dash_html_components as html` with `from dash import html`\n",
      "  import dash_html_components as html\n"
     ]
    }
   ],
   "source": [
    "import dash\n",
    "import dash_core_components as dcc\n",
    "import dash_html_components as html\n",
    "import plotly.graph_objects as go\n",
    "import seaborn as sns\n",
    "import pandas as pd\n"
   ]
  },
  {
   "cell_type": "code",
   "execution_count": null,
   "id": "cb424e18",
   "metadata": {},
   "outputs": [
    {
     "name": "stdout",
     "output_type": "stream",
     "text": [
      "Dash is running on http://127.0.0.1:8050/\n",
      "\n",
      " * Serving Flask app '__main__'\n",
      " * Debug mode: off\n"
     ]
    },
    {
     "name": "stderr",
     "output_type": "stream",
     "text": [
      "WARNING: This is a development server. Do not use it in a production deployment. Use a production WSGI server instead.\n",
      " * Running on http://127.0.0.1:8050\n",
      "Press CTRL+C to quit\n",
      "127.0.0.1 - - [05/Jun/2023 20:36:38] \"GET / HTTP/1.1\" 200 -\n",
      "127.0.0.1 - - [05/Jun/2023 20:36:38] \"GET /_dash-dependencies HTTP/1.1\" 200 -\n",
      "127.0.0.1 - - [05/Jun/2023 20:36:38] \"GET /_dash-layout HTTP/1.1\" 200 -\n",
      "127.0.0.1 - - [05/Jun/2023 20:36:39] \"GET /_dash-component-suites/dash/dcc/async-graph.js HTTP/1.1\" 304 -\n",
      "127.0.0.1 - - [05/Jun/2023 20:36:39] \"GET /_dash-component-suites/dash/dcc/async-plotlyjs.js HTTP/1.1\" 304 -\n"
     ]
    }
   ],
   "source": [
    "# Sample sales data\n",
    "sales_data = {\n",
    "    'Month': ['Jan', 'Feb', 'Mar', 'Apr', 'May'],\n",
    "    'Sales': [1000, 1500, 1200, 1700, 1400],\n",
    "    'Sales2': [900, 1200, 1100, 1300, 1500],\n",
    "    'Sales3': [800, 1100, 1000, 1200, 1300]\n",
    "}\n",
    "\n",
    "df = pd.DataFrame(sales_data)\n",
    "\n",
    "# Create Dash app\n",
    "app = dash.Dash(__name__)\n",
    "\n",
    "# Set custom styles\n",
    "font_family = 'product sans'\n",
    "font_size = 15\n",
    "header_size = 30  # Define the header size here\n",
    "graph_width = 800\n",
    "graph_height = 600\n",
    "fill_opacity = 0.5\n",
    "\n",
    "# Define colorscale for gradient fill\n",
    "colorscale = [[0, '#ff0000'], [1, '#ffffff']]  # From red to white\n",
    "\n",
    "# Create figure\n",
    "fig = go.Figure()\n",
    "\n",
    "# Add sales line traces with gradient fill\n",
    "fig.add_trace(go.Scatter(\n",
    "    x=df['Month'],\n",
    "    y=df['Sales'],\n",
    "    fill='tozeroy',\n",
    "    fillcolor='rgba(255, 0, 0, 0.5)',  # Use a transparent red color for the fill\n",
    "    opacity=1,\n",
    "    mode='lines+markers',  # Include markers along with lines\n",
    "    marker=dict(color='black', size=8),\n",
    "    line=dict(color='black', width=2),\n",
    "    name='Sales',\n",
    "    hovertemplate='Month: %{x}<br>Sales: %{y}'\n",
    "))\n",
    "\n",
    "fig.add_trace(go.Scatter(\n",
    "    x=df['Month'],\n",
    "    y=df['Sales2'],\n",
    "    fill='tozeroy',\n",
    "    fillcolor='rgba(255, 165, 0, 0.5)',  # Use a transparent orange color for the fill\n",
    "    opacity=1,\n",
    "    mode='lines+markers',  # Include markers along with lines\n",
    "    marker=dict(color='black', size=8),\n",
    "    line=dict(color='black', width=2),\n",
    "    name='Sales2',\n",
    "    hovertemplate='Month: %{x}<br>Sales: %{y}'\n",
    "))\n",
    "\n",
    "fig.add_trace(go.Scatter(\n",
    "    x=df['Month'],\n",
    "    y=df['Sales3'],\n",
    "    fill='tozeroy',\n",
    "    fillcolor='rgba(255, 255, 0, 0.5)',  # Use a transparent yellow color for the fill\n",
    "    opacity=1,\n",
    "    mode='lines+markers',  # Include markers along with lines\n",
    "    marker=dict(color='black', size=8),\n",
    "    line=dict(color='black', width=2),\n",
    "    name='Sales3',\n",
    "    hovertemplate='Month: %{x}<br>Sales: %{y}'\n",
    "))\n",
    "\n",
    "# Update layout\n",
    "fig.update_layout(\n",
    "    font=dict(family=font_family, size=font_size),\n",
    "    width=graph_width,\n",
    "    height=graph_height,\n",
    "    xaxis_title='Month',\n",
    "    yaxis_title='Sales',\n",
    "    legend_title='Legend',\n",
    "    showlegend=True\n",
    ")\n",
    "\n",
    "\n",
    "\n",
    "# Define app layout\n",
    "app.layout = html.Div(children=[\n",
    "    html.H1('Sales Visualization', style={'fontFamily': font_family, 'fontSize': f'{header_size}px'}, id='header'),\n",
    "    dcc.Graph(id='sales-chart', figure=fig)\n",
    "])\n",
    "\n",
    "# Run the app\n",
    "if __name__ == '__main__':\n",
    "    app.run_server(debug=False)\n"
   ]
  },
  {
   "cell_type": "code",
   "execution_count": null,
   "id": "ebc11928",
   "metadata": {},
   "outputs": [],
   "source": []
  },
  {
   "cell_type": "code",
   "execution_count": null,
   "id": "05b4ebdc",
   "metadata": {},
   "outputs": [],
   "source": []
  }
 ],
 "metadata": {
  "kernelspec": {
   "display_name": "Python 3 (ipykernel)",
   "language": "python",
   "name": "python3"
  },
  "language_info": {
   "codemirror_mode": {
    "name": "ipython",
    "version": 3
   },
   "file_extension": ".py",
   "mimetype": "text/x-python",
   "name": "python",
   "nbconvert_exporter": "python",
   "pygments_lexer": "ipython3",
   "version": "3.9.16"
  }
 },
 "nbformat": 4,
 "nbformat_minor": 5
}
