{
 "cells": [
  {
   "cell_type": "code",
   "execution_count": 1,
   "id": "0966a7da",
   "metadata": {},
   "outputs": [
    {
     "name": "stderr",
     "output_type": "stream",
     "text": [
      "C:\\Users\\nk619\\AppData\\Local\\Temp\\ipykernel_12496\\842926871.py:2: UserWarning: \n",
      "The dash_core_components package is deprecated. Please replace\n",
      "`import dash_core_components as dcc` with `from dash import dcc`\n",
      "  import dash_core_components as dcc\n",
      "C:\\Users\\nk619\\AppData\\Local\\Temp\\ipykernel_12496\\842926871.py:3: UserWarning: \n",
      "The dash_html_components package is deprecated. Please replace\n",
      "`import dash_html_components as html` with `from dash import html`\n",
      "  import dash_html_components as html\n"
     ]
    }
   ],
   "source": [
    "import dash\n",
    "import dash_core_components as dcc\n",
    "import dash_html_components as html\n",
    "import plotly.graph_objects as go\n",
    "import pandas as pd\n",
    "\n"
   ]
  },
  {
   "cell_type": "code",
   "execution_count": 2,
   "id": "358cdb74",
   "metadata": {},
   "outputs": [],
   "source": [
    "data = pd.DataFrame({\n",
    "    'Sample': [1, 2, 3, 4, 5, 6, 7, 8, 9, 10],\n",
    "    'Value': [24, 28, 26, 29, 30, 25, 27, 31, 28, 29]\n",
    "})"
   ]
  },
  {
   "cell_type": "code",
   "execution_count": null,
   "id": "08091f73",
   "metadata": {},
   "outputs": [
    {
     "name": "stdout",
     "output_type": "stream",
     "text": [
      "Dash is running on http://127.0.0.1:8050/\n",
      "\n",
      " * Serving Flask app '__main__'\n",
      " * Debug mode: off\n"
     ]
    },
    {
     "name": "stderr",
     "output_type": "stream",
     "text": [
      "WARNING: This is a development server. Do not use it in a production deployment. Use a production WSGI server instead.\n",
      " * Running on http://127.0.0.1:8050\n",
      "Press CTRL+C to quit\n",
      "127.0.0.1 - - [23/May/2023 13:27:18] \"GET / HTTP/1.1\" 200 -\n",
      "127.0.0.1 - - [23/May/2023 13:27:18] \"GET /_dash-dependencies HTTP/1.1\" 200 -\n",
      "127.0.0.1 - - [23/May/2023 13:27:18] \"GET /_dash-layout HTTP/1.1\" 200 -\n",
      "127.0.0.1 - - [23/May/2023 13:27:20] \"GET /_dash-component-suites/dash/dcc/async-graph.js HTTP/1.1\" 304 -\n",
      "127.0.0.1 - - [23/May/2023 13:27:20] \"GET /_dash-component-suites/dash/dcc/async-plotlyjs.js HTTP/1.1\" 304 -\n"
     ]
    }
   ],
   "source": [
    "# Calculate control limits\n",
    "mean = data['Value'].mean()\n",
    "std = data['Value'].std()\n",
    "upper_limit = mean + 3 * std\n",
    "lower_limit = mean - 3 * std\n",
    "\n",
    "# Create the control chart\n",
    "chart = go.Figure()\n",
    "\n",
    "# Add the sample values as a line chart\n",
    "chart.add_trace(go.Scatter(\n",
    "    x=data['Sample'],\n",
    "    y=data['Value'],\n",
    "    mode='lines',\n",
    "    name='Sample Values'\n",
    "))\n",
    "\n",
    "# Add the control limits\n",
    "chart.add_trace(go.Scatter(\n",
    "    x=[data['Sample'].min(), data['Sample'].max()],\n",
    "    y=[upper_limit, upper_limit],\n",
    "    mode='lines',\n",
    "    name='Upper Control Limit',\n",
    "    line=dict(color='red', dash='dash')\n",
    "))\n",
    "\n",
    "chart.add_trace(go.Scatter(\n",
    "    x=[data['Sample'].min(), data['Sample'].max()],\n",
    "    y=[lower_limit, lower_limit],\n",
    "    mode='lines',\n",
    "    name='Lower Control Limit',\n",
    "    line=dict(color='red', dash='dash')\n",
    "))\n",
    "\n",
    "# Create the Dash app\n",
    "app = dash.Dash(__name__)\n",
    "\n",
    "app.layout = html.Div(children=[\n",
    "    html.H1(children='Process Control Chart'),\n",
    "    dcc.Graph(\n",
    "        id='control-chart',\n",
    "        figure=chart\n",
    "    )\n",
    "])\n",
    "\n",
    "if __name__ == '__main__':\n",
    "    app.run_server(debug=False)"
   ]
  },
  {
   "cell_type": "code",
   "execution_count": null,
   "id": "c81f40f9",
   "metadata": {},
   "outputs": [],
   "source": []
  }
 ],
 "metadata": {
  "kernelspec": {
   "display_name": "Python 3 (ipykernel)",
   "language": "python",
   "name": "python3"
  },
  "language_info": {
   "codemirror_mode": {
    "name": "ipython",
    "version": 3
   },
   "file_extension": ".py",
   "mimetype": "text/x-python",
   "name": "python",
   "nbconvert_exporter": "python",
   "pygments_lexer": "ipython3",
   "version": "3.9.16"
  }
 },
 "nbformat": 4,
 "nbformat_minor": 5
}
